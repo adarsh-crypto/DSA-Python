{
 "cells": [
  {
   "cell_type": "code",
   "execution_count": 1,
   "metadata": {},
   "outputs": [],
   "source": [
    "a=(1,2)"
   ]
  },
  {
   "cell_type": "code",
   "execution_count": 2,
   "metadata": {},
   "outputs": [
    {
     "name": "stdout",
     "output_type": "stream",
     "text": [
      "(1, 2)\n"
     ]
    }
   ],
   "source": [
    "print(a)"
   ]
  },
  {
   "cell_type": "code",
   "execution_count": 3,
   "metadata": {},
   "outputs": [
    {
     "name": "stdout",
     "output_type": "stream",
     "text": [
      "<class 'tuple'>\n"
     ]
    }
   ],
   "source": [
    "print(type(a))"
   ]
  },
  {
   "cell_type": "code",
   "execution_count": 4,
   "metadata": {},
   "outputs": [],
   "source": [
    "b,c=3,4"
   ]
  },
  {
   "cell_type": "code",
   "execution_count": 6,
   "metadata": {},
   "outputs": [
    {
     "name": "stdout",
     "output_type": "stream",
     "text": [
      "3\n",
      "4\n"
     ]
    }
   ],
   "source": [
    "print (b)\n",
    "print(c)"
   ]
  },
  {
   "cell_type": "code",
   "execution_count": 1,
   "metadata": {},
   "outputs": [
    {
     "ename": "TypeError",
     "evalue": "'tuple' object does not support item assignment",
     "output_type": "error",
     "traceback": [
      "\u001b[1;31m---------------------------------------------------------------------------\u001b[0m",
      "\u001b[1;31mTypeError\u001b[0m                                 Traceback (most recent call last)",
      "\u001b[1;32md:\\Python\\.ipynb_checkpoints\\Coding ninjas\\Milestone2(tuples).ipynb Cell 1'\u001b[0m in \u001b[0;36m<cell line: 2>\u001b[1;34m()\u001b[0m\n\u001b[0;32m      <a href='vscode-notebook-cell:/d%3A/Python/.ipynb_checkpoints/Coding%20ninjas/Milestone2%28tuples%29.ipynb#ch0000000?line=0'>1</a>\u001b[0m a \u001b[39m=\u001b[39m \u001b[39m5\u001b[39m,\u001b[39m6\u001b[39m,\u001b[39m7\u001b[39m\n\u001b[1;32m----> <a href='vscode-notebook-cell:/d%3A/Python/.ipynb_checkpoints/Coding%20ninjas/Milestone2%28tuples%29.ipynb#ch0000000?line=1'>2</a>\u001b[0m a[\u001b[39m2\u001b[39m] \u001b[39m=\u001b[39m \u001b[39m9\u001b[39m \n\u001b[0;32m      <a href='vscode-notebook-cell:/d%3A/Python/.ipynb_checkpoints/Coding%20ninjas/Milestone2%28tuples%29.ipynb#ch0000000?line=2'>3</a>\u001b[0m \u001b[39mprint\u001b[39m(a)\n",
      "\u001b[1;31mTypeError\u001b[0m: 'tuple' object does not support item assignment"
     ]
    }
   ],
   "source": [
    "a = 5,6,7\n",
    "a[2] = 9 \n",
    "print(a)"
   ]
  },
  {
   "cell_type": "code",
   "execution_count": 2,
   "metadata": {},
   "outputs": [
    {
     "name": "stdout",
     "output_type": "stream",
     "text": [
      "(1, 2)\n"
     ]
    }
   ],
   "source": [
    "a = 1,2\n",
    "b = (4,5)\n",
    "d = (a,b)\n",
    "print(d[0])\n"
   ]
  },
  {
   "cell_type": "code",
   "execution_count": 3,
   "metadata": {},
   "outputs": [
    {
     "name": "stdout",
     "output_type": "stream",
     "text": [
      "4\n"
     ]
    }
   ],
   "source": [
    "a = 1,2\n",
    "b = (4,5)\n",
    "d = a+b\n",
    "print(d[2])"
   ]
  },
  {
   "cell_type": "code",
   "execution_count": 5,
   "metadata": {},
   "outputs": [
    {
     "name": "stdout",
     "output_type": "stream",
     "text": [
      "ab\n"
     ]
    }
   ],
   "source": [
    "a = (\"ab\",\"abc\",\"def\")\n",
    "print(min(a))"
   ]
  },
  {
   "cell_type": "code",
   "execution_count": 6,
   "metadata": {},
   "outputs": [
    {
     "name": "stdout",
     "output_type": "stream",
     "text": [
      "120\n"
     ]
    }
   ],
   "source": [
    "def multiply(a,b,c,*more):\n",
    "    value = a*b*c\n",
    "    for i in more:\n",
    "        value = value * i\n",
    "    return value\n",
    "V = multiply(1,2,3,4,5)\n",
    "print(V)"
   ]
  },
  {
   "cell_type": "code",
   "execution_count": 7,
   "metadata": {},
   "outputs": [
    {
     "name": "stdout",
     "output_type": "stream",
     "text": [
      "(9, 24)\n"
     ]
    }
   ],
   "source": [
    "def sum_multiply(a,b,*more):\n",
    "    sum_value = a+b\n",
    "    m_value = a*b\n",
    "    for i in more:\n",
    "        sum_value += i\n",
    "        m_value*=i\n",
    "    return sum_value,m_value\n",
    "s_m = sum_multiply(2,3,4)\n",
    "print(s_m)"
   ]
  },
  {
   "cell_type": "code",
   "execution_count": 9,
   "metadata": {},
   "outputs": [
    {
     "ename": "KeyError",
     "evalue": "0",
     "output_type": "error",
     "traceback": [
      "\u001b[1;31m---------------------------------------------------------------------------\u001b[0m",
      "\u001b[1;31mKeyError\u001b[0m                                  Traceback (most recent call last)",
      "\u001b[1;32md:\\Python\\.ipynb_checkpoints\\Coding ninjas\\Milestone2(tuples).ipynb Cell 12'\u001b[0m in \u001b[0;36m<cell line: 2>\u001b[1;34m()\u001b[0m\n\u001b[0;32m      <a href='vscode-notebook-cell:/d%3A/Python/.ipynb_checkpoints/Coding%20ninjas/Milestone2%28tuples%29.ipynb#ch0000011?line=0'>1</a>\u001b[0m d \u001b[39m=\u001b[39m {\u001b[39m1\u001b[39m:\u001b[39m2\u001b[39m, \u001b[39m\"\u001b[39m\u001b[39mabc\u001b[39m\u001b[39m\"\u001b[39m:\u001b[39m5\u001b[39m, \u001b[39m\"\u001b[39m\u001b[39mdef\u001b[39m\u001b[39m\"\u001b[39m:\u001b[39m7\u001b[39m}\n\u001b[1;32m----> <a href='vscode-notebook-cell:/d%3A/Python/.ipynb_checkpoints/Coding%20ninjas/Milestone2%28tuples%29.ipynb#ch0000011?line=1'>2</a>\u001b[0m \u001b[39mprint\u001b[39m(d[\u001b[39m0\u001b[39;49m])\n",
      "\u001b[1;31mKeyError\u001b[0m: 0"
     ]
    }
   ],
   "source": [
    "d = {1:2, \"abc\":5, \"def\":7}\n",
    "print(d[0])"
   ]
  },
  {
   "cell_type": "code",
   "execution_count": 11,
   "metadata": {},
   "outputs": [
    {
     "name": "stdout",
     "output_type": "stream",
     "text": [
      "5\n"
     ]
    }
   ],
   "source": [
    "d = {1:2, \"abc\":5, \"def\":7}\n",
    "print(d.get(0,5))"
   ]
  },
  {
   "cell_type": "code",
   "execution_count": 14,
   "metadata": {},
   "outputs": [
    {
     "name": "stdout",
     "output_type": "stream",
     "text": [
      "Not Present\n"
     ]
    }
   ],
   "source": [
    "d = {1:2, \"abc\":5, \"def\":7}\n",
    "if 2 in d:\n",
    "    print('Present')\n",
    "else:\n",
    "    print('Not Present')"
   ]
  },
  {
   "cell_type": "code",
   "execution_count": 15,
   "metadata": {},
   "outputs": [
    {
     "name": "stdout",
     "output_type": "stream",
     "text": [
      "7\n"
     ]
    }
   ],
   "source": [
    "a = {1:2,'list':[1,2],3:5}\n",
    "b = {4:5,3:7}\n",
    "a.update(b)\n",
    "print(a[3])"
   ]
  },
  {
   "cell_type": "code",
   "execution_count": 17,
   "metadata": {},
   "outputs": [
    {
     "name": "stdout",
     "output_type": "stream",
     "text": [
      "[3, 5]\n"
     ]
    }
   ],
   "source": [
    "a = {1:2,'list':[1,2],3:5}\n",
    "a.pop('list')\n",
    "a['list'] = [3,5]\n",
    "print(a['list'])"
   ]
  },
  {
   "cell_type": "code",
   "execution_count": 20,
   "metadata": {},
   "outputs": [
    {
     "name": "stdout",
     "output_type": "stream",
     "text": [
      "55\n"
     ]
    }
   ],
   "source": [
    "s = {1,2,3,5,4,2,3,1}\n",
    "print(len(s),end= \"\")\n",
    "s.add(4)\n",
    "s.add(3)\n",
    "print(len(s))"
   ]
  },
  {
   "cell_type": "code",
   "execution_count": 21,
   "metadata": {},
   "outputs": [
    {
     "ename": "AttributeError",
     "evalue": "'dict' object has no attribute 'add'",
     "output_type": "error",
     "traceback": [
      "\u001b[1;31m---------------------------------------------------------------------------\u001b[0m",
      "\u001b[1;31mAttributeError\u001b[0m                            Traceback (most recent call last)",
      "\u001b[1;32md:\\Python\\.ipynb_checkpoints\\Coding ninjas\\Milestone2(tuples).ipynb Cell 18'\u001b[0m in \u001b[0;36m<cell line: 2>\u001b[1;34m()\u001b[0m\n\u001b[0;32m      <a href='vscode-notebook-cell:/d%3A/Python/.ipynb_checkpoints/Coding%20ninjas/Milestone2%28tuples%29.ipynb#ch0000017?line=0'>1</a>\u001b[0m s \u001b[39m=\u001b[39m {}\n\u001b[1;32m----> <a href='vscode-notebook-cell:/d%3A/Python/.ipynb_checkpoints/Coding%20ninjas/Milestone2%28tuples%29.ipynb#ch0000017?line=1'>2</a>\u001b[0m s\u001b[39m.\u001b[39;49madd(\u001b[39m4\u001b[39m)\n\u001b[0;32m      <a href='vscode-notebook-cell:/d%3A/Python/.ipynb_checkpoints/Coding%20ninjas/Milestone2%28tuples%29.ipynb#ch0000017?line=2'>3</a>\u001b[0m s\u001b[39m.\u001b[39madd(\u001b[39m4\u001b[39m)\n\u001b[0;32m      <a href='vscode-notebook-cell:/d%3A/Python/.ipynb_checkpoints/Coding%20ninjas/Milestone2%28tuples%29.ipynb#ch0000017?line=3'>4</a>\u001b[0m \u001b[39mprint\u001b[39m(\u001b[39mlen\u001b[39m(s))\n",
      "\u001b[1;31mAttributeError\u001b[0m: 'dict' object has no attribute 'add'"
     ]
    }
   ],
   "source": [
    "s = {}\n",
    "s.add(4)\n",
    "s.add(4)\n",
    "print(len(s))"
   ]
  },
  {
   "cell_type": "code",
   "execution_count": 4,
   "metadata": {},
   "outputs": [
    {
     "name": "stdout",
     "output_type": "stream",
     "text": [
      "Number of list is:  ['ad a ad ad ad ']\n"
     ]
    }
   ],
   "source": [
    "s= [str(s) for s in input(\"Enter multiple value: \").split(\",\")]\n",
    "\n",
    "print(\"Number of list is: \", s) "
   ]
  },
  {
   "cell_type": "code",
   "execution_count": 12,
   "metadata": {},
   "outputs": [
    {
     "name": "stdout",
     "output_type": "stream",
     "text": [
      "Minimum length word:  \n"
     ]
    }
   ],
   "source": [
    "def minMaxLengthWords(s):\n",
    "\tlength = len(s)\n",
    "\tsi = ei = 0\n",
    "\tmin_length = length\n",
    "\tmin_start_index = max_length = max_start_index = 0\n",
    "\t\n",
    "\t\n",
    "\twhile ei <= length:\n",
    "\t\tif (ei < length) and (s[ei] != \" \"):\n",
    "\t\t\tei += 1\n",
    "\t\telse:\n",
    "\t\t\tcurr_length = ei - si\n",
    "\t\t\t\n",
    "\t\t\t\n",
    "\t\t\tif curr_length < min_length:\n",
    "\t\t\t\tmin_length = curr_length\n",
    "\t\t\t\tmin_start_index = si\n",
    "\t\t\t\t\n",
    "\t\t\t\n",
    "\t\t\tif curr_length > max_length:\n",
    "\t\t\t\tmax_length = curr_length\n",
    "\t\t\t\tmax_start_index = si\n",
    "\t\t\tei += 1\n",
    "\t\t\tsi = ei\n",
    "\t\t\t\n",
    "\t\t\n",
    "\tminWord = s[min_start_index :\n",
    "\t\t\t\tmin_start_index + min_length]\n",
    "\t\n",
    "\t\t\n",
    "\tmaxWord = s[max_start_index : max_length]\n",
    "\t\n",
    "\t\n",
    "\tprint(\"Minimum length word: \", minWord)\n",
    "\n",
    "s= input(\"Enter the string: \")\n",
    "minMaxLengthWords(s)"
   ]
  },
  {
   "cell_type": "markdown",
   "metadata": {},
   "source": [
    "Find the minimum word of the string"
   ]
  },
  {
   "cell_type": "code",
   "execution_count": 2,
   "metadata": {},
   "outputs": [
    {
     "name": "stdout",
     "output_type": "stream",
     "text": [
      "a\n"
     ]
    }
   ],
   "source": [
    "\n",
    "def minMaxLengthWords(inp):\n",
    "\t\n",
    "\tlength = len(inp)\n",
    "\tsi = ei = 0\n",
    "\tmin_length = length\n",
    "\tmin_start_index = max_length = max_start_index = 0\n",
    "\t\n",
    "\t\n",
    "\twhile ei <= length:\n",
    "\t\tif (ei < length) and (inp[ei] != \" \"):\n",
    "\t\t\tei += 1\n",
    "\t\telse:\n",
    "\t\t\tcurr_length = ei - si\n",
    "\t\t\t\n",
    "\t\t\t\n",
    "\t\t\tif curr_length < min_length:\n",
    "\t\t\t\tmin_length = curr_length\n",
    "\t\t\t\tmin_start_index = si\n",
    "\t\t\t\t\n",
    "\t\t\t\n",
    "\t\t\tif curr_length > max_length:\n",
    "\t\t\t\tmax_length = curr_length\n",
    "\t\t\t\tmax_start_index = si\n",
    "\t\t\tei += 1\n",
    "\t\t\tsi = ei\n",
    "\t\t\t\n",
    "\t\t\n",
    "\tminWord = inp[min_start_index :\n",
    "\t\t\t\tmin_start_index + min_length]\n",
    "\t\n",
    "\t\t\n",
    "\tmaxWord = inp[max_start_index : max_length]\n",
    "\t\n",
    "\t\n",
    "\tprint( minWord)\n",
    "\t\n",
    "\t\n",
    "a = input(\"Enter the string: \")\n",
    "minMaxLengthWords(a)\n",
    "\n",
    "\n"
   ]
  },
  {
   "cell_type": "code",
   "execution_count": null,
   "metadata": {},
   "outputs": [],
   "source": []
  }
 ],
 "metadata": {
  "kernelspec": {
   "display_name": "Python 3.10.5 64-bit",
   "language": "python",
   "name": "python3"
  },
  "language_info": {
   "codemirror_mode": {
    "name": "ipython",
    "version": 3
   },
   "file_extension": ".py",
   "mimetype": "text/x-python",
   "name": "python",
   "nbconvert_exporter": "python",
   "pygments_lexer": "ipython3",
   "version": "3.10.5"
  },
  "orig_nbformat": 4,
  "vscode": {
   "interpreter": {
    "hash": "05b2657630491085f8afbfdf2bfd0491452bae39dfa118b08ac6e00cdce9e088"
   }
  }
 },
 "nbformat": 4,
 "nbformat_minor": 2
}
