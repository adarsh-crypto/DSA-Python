{
 "cells": [
  {
   "cell_type": "code",
   "execution_count": 2,
   "id": "658ecd11",
   "metadata": {},
   "outputs": [
    {
     "name": "stdout",
     "output_type": "stream",
     "text": [
      "[1, 2, 2, 'iviwebvv', 4]\n"
     ]
    }
   ],
   "source": [
    "print(li)"
   ]
  },
  {
   "cell_type": "code",
   "execution_count": 3,
   "id": "738e4033",
   "metadata": {},
   "outputs": [
    {
     "data": {
      "text/plain": [
       "list"
      ]
     },
     "execution_count": 3,
     "metadata": {},
     "output_type": "execute_result"
    }
   ],
   "source": [
    "type(li)"
   ]
  },
  {
   "cell_type": "code",
   "execution_count": 4,
   "id": "edaa1b42",
   "metadata": {},
   "outputs": [
    {
     "data": {
      "text/plain": [
       "[1, 2, 2, 'iviwebvv', 4]"
      ]
     },
     "execution_count": 4,
     "metadata": {},
     "output_type": "execute_result"
    }
   ],
   "source": [
    "li"
   ]
  },
  {
   "cell_type": "code",
   "execution_count": 5,
   "id": "914f1bc1",
   "metadata": {},
   "outputs": [],
   "source": [
    "li[3]='lol'"
   ]
  },
  {
   "cell_type": "code",
   "execution_count": 6,
   "id": "03a3dcc2",
   "metadata": {},
   "outputs": [
    {
     "data": {
      "text/plain": [
       "[2, 2, 'lol']"
      ]
     },
     "execution_count": 6,
     "metadata": {},
     "output_type": "execute_result"
    }
   ],
   "source": [
    "li[1:4]"
   ]
  },
  {
   "cell_type": "code",
   "execution_count": 7,
   "id": "a994e161",
   "metadata": {},
   "outputs": [],
   "source": [
    "li.append(\"Adarsh\")"
   ]
  },
  {
   "cell_type": "code",
   "execution_count": 8,
   "id": "877595b4",
   "metadata": {},
   "outputs": [
    {
     "data": {
      "text/plain": [
       "[1, 2, 2, 'lol', 4, 'Adarsh']"
      ]
     },
     "execution_count": 8,
     "metadata": {},
     "output_type": "execute_result"
    }
   ],
   "source": [
    "li"
   ]
  },
  {
   "cell_type": "code",
   "execution_count": 9,
   "id": "38a63da8",
   "metadata": {},
   "outputs": [],
   "source": [
    "li.insert(1,\"wow\")"
   ]
  },
  {
   "cell_type": "code",
   "execution_count": 10,
   "id": "5312bb85",
   "metadata": {},
   "outputs": [
    {
     "data": {
      "text/plain": [
       "[1, 'wow', 2, 2, 'lol', 4, 'Adarsh']"
      ]
     },
     "execution_count": 10,
     "metadata": {},
     "output_type": "execute_result"
    }
   ],
   "source": [
    "li"
   ]
  },
  {
   "cell_type": "code",
   "execution_count": 11,
   "id": "e76f32a3",
   "metadata": {},
   "outputs": [],
   "source": [
    "li.extend([9,8,7])"
   ]
  },
  {
   "cell_type": "code",
   "execution_count": 12,
   "id": "9a75b195",
   "metadata": {},
   "outputs": [
    {
     "data": {
      "text/plain": [
       "[1, 'wow', 2, 2, 'lol', 4, 'Adarsh', 9, 8, 7]"
      ]
     },
     "execution_count": 12,
     "metadata": {},
     "output_type": "execute_result"
    }
   ],
   "source": [
    "li"
   ]
  },
  {
   "cell_type": "code",
   "execution_count": 13,
   "id": "adee73b2",
   "metadata": {},
   "outputs": [],
   "source": [
    "li.append([9,8,7])"
   ]
  },
  {
   "cell_type": "code",
   "execution_count": 14,
   "id": "1af5fc55",
   "metadata": {},
   "outputs": [
    {
     "data": {
      "text/plain": [
       "[1, 'wow', 2, 2, 'lol', 4, 'Adarsh', 9, 8, 7, [9, 8, 7]]"
      ]
     },
     "execution_count": 14,
     "metadata": {},
     "output_type": "execute_result"
    }
   ],
   "source": [
    "li"
   ]
  },
  {
   "cell_type": "code",
   "execution_count": 15,
   "id": "1e57ef49",
   "metadata": {},
   "outputs": [],
   "source": [
    "li.remove('Adarsh')"
   ]
  },
  {
   "cell_type": "code",
   "execution_count": 16,
   "id": "53abc042",
   "metadata": {},
   "outputs": [
    {
     "data": {
      "text/plain": [
       "[1, 'wow', 2, 2, 'lol', 4, 9, 8, 7, [9, 8, 7]]"
      ]
     },
     "execution_count": 16,
     "metadata": {},
     "output_type": "execute_result"
    }
   ],
   "source": [
    "li"
   ]
  },
  {
   "cell_type": "code",
   "execution_count": 17,
   "id": "b01a0f37",
   "metadata": {},
   "outputs": [
    {
     "data": {
      "text/plain": [
       "'wow'"
      ]
     },
     "execution_count": 17,
     "metadata": {},
     "output_type": "execute_result"
    }
   ],
   "source": [
    "li.pop(1)"
   ]
  },
  {
   "cell_type": "code",
   "execution_count": 18,
   "id": "0b628fcc",
   "metadata": {},
   "outputs": [],
   "source": [
    "li=[1,2,'adarsh']"
   ]
  },
  {
   "cell_type": "code",
   "execution_count": 19,
   "id": "54c34726",
   "metadata": {},
   "outputs": [
    {
     "data": {
      "text/plain": [
       "[1, 2, 'adarsh']"
      ]
     },
     "execution_count": 19,
     "metadata": {},
     "output_type": "execute_result"
    }
   ],
   "source": [
    "li"
   ]
  },
  {
   "cell_type": "code",
   "execution_count": 20,
   "id": "cac35c3d",
   "metadata": {},
   "outputs": [],
   "source": [
    "li.append(15)"
   ]
  },
  {
   "cell_type": "code",
   "execution_count": 21,
   "id": "f5487a42",
   "metadata": {},
   "outputs": [],
   "source": [
    "li=[1,2,'adarsh',34,\"lmao\",45]"
   ]
  },
  {
   "cell_type": "code",
   "execution_count": 22,
   "id": "e98f9d65",
   "metadata": {},
   "outputs": [
    {
     "data": {
      "text/plain": [
       "[1, 2, 'adarsh', 34, 'lmao', 45]"
      ]
     },
     "execution_count": 22,
     "metadata": {},
     "output_type": "execute_result"
    }
   ],
   "source": [
    "li"
   ]
  },
  {
   "cell_type": "code",
   "execution_count": 23,
   "id": "03dc0b80",
   "metadata": {},
   "outputs": [
    {
     "name": "stdout",
     "output_type": "stream",
     "text": [
      "2\n",
      "adarsh\n",
      "34\n",
      "lmao\n",
      "45\n"
     ]
    }
   ],
   "source": [
    "for i in range(1,len(li)):\n",
    "    print(li[i])"
   ]
  },
  {
   "cell_type": "code",
   "execution_count": 24,
   "id": "2e32bbe2",
   "metadata": {},
   "outputs": [
    {
     "name": "stdout",
     "output_type": "stream",
     "text": [
      "1\n",
      "2\n",
      "adarsh\n",
      "34\n",
      "lmao\n",
      "45\n"
     ]
    }
   ],
   "source": [
    "for ele in li:\n",
    "    print(ele)"
   ]
  },
  {
   "cell_type": "code",
   "execution_count": 25,
   "id": "5218a378",
   "metadata": {},
   "outputs": [
    {
     "name": "stdout",
     "output_type": "stream",
     "text": [
      "adarsh\n",
      "34\n",
      "lmao\n"
     ]
    }
   ],
   "source": [
    "for ele in li[2:5]:\n",
    "    print(ele)"
   ]
  },
  {
   "cell_type": "code",
   "execution_count": 26,
   "id": "0283336f",
   "metadata": {},
   "outputs": [
    {
     "name": "stdout",
     "output_type": "stream",
     "text": [
      "234"
     ]
    }
   ],
   "source": [
    "li = [1,2,3,4,5]\n",
    "for i in li[1:4]:\n",
    "    print(i,end= \"\")"
   ]
  },
  {
   "cell_type": "code",
   "execution_count": 27,
   "id": "0c5b949a",
   "metadata": {},
   "outputs": [],
   "source": [
    "li = [1,2,3,4,5]"
   ]
  },
  {
   "cell_type": "code",
   "execution_count": 28,
   "id": "966a7eba",
   "metadata": {},
   "outputs": [
    {
     "data": {
      "text/plain": [
       "4"
      ]
     },
     "execution_count": 28,
     "metadata": {},
     "output_type": "execute_result"
    }
   ],
   "source": [
    "li[-2]"
   ]
  },
  {
   "cell_type": "markdown",
   "id": "a7f8c116",
   "metadata": {},
   "source": [
    "Sequencing In list"
   ]
  },
  {
   "cell_type": "code",
   "execution_count": 29,
   "id": "582bce2a",
   "metadata": {},
   "outputs": [
    {
     "data": {
      "text/plain": [
       "[1, 2, 3, 4, 5]"
      ]
     },
     "execution_count": 29,
     "metadata": {},
     "output_type": "execute_result"
    }
   ],
   "source": [
    "li"
   ]
  },
  {
   "cell_type": "code",
   "execution_count": 30,
   "id": "be80139e",
   "metadata": {},
   "outputs": [
    {
     "data": {
      "text/plain": [
       "[1, 2, 3, 4]"
      ]
     },
     "execution_count": 30,
     "metadata": {},
     "output_type": "execute_result"
    }
   ],
   "source": [
    "li[:4]"
   ]
  },
  {
   "cell_type": "markdown",
   "id": "6511ed8a",
   "metadata": {},
   "source": [
    "Input In list"
   ]
  },
  {
   "cell_type": "code",
   "execution_count": 31,
   "id": "6d913dff",
   "metadata": {},
   "outputs": [
    {
     "name": "stdout",
     "output_type": "stream",
     "text": [
      "\n"
     ]
    }
   ],
   "source": [
    "n=input()\n",
    "print(n)"
   ]
  },
  {
   "cell_type": "code",
   "execution_count": 32,
   "id": "96a607d7",
   "metadata": {},
   "outputs": [
    {
     "ename": "ValueError",
     "evalue": "invalid literal for int() with base 10: ''",
     "output_type": "error",
     "traceback": [
      "\u001b[1;31m---------------------------------------------------------------------------\u001b[0m",
      "\u001b[1;31mValueError\u001b[0m                                Traceback (most recent call last)",
      "\u001b[1;32mc:\\Users\\sinha\\Python\\.ipynb_checkpoints\\Coding ninjas\\Milestone2(Arrays&Lists)-checkpoint.ipynb Cell 34'\u001b[0m in \u001b[0;36m<module>\u001b[1;34m\u001b[0m\n\u001b[1;32m----> <a href='vscode-notebook-cell:/c%3A/Users/sinha/Python/.ipynb_checkpoints/Coding%20ninjas/Milestone2%28Arrays%26Lists%29-checkpoint.ipynb#ch0000033?line=0'>1</a>\u001b[0m n\u001b[39m=\u001b[39m\u001b[39mint\u001b[39;49m(\u001b[39minput\u001b[39;49m())\n\u001b[0;32m      <a href='vscode-notebook-cell:/c%3A/Users/sinha/Python/.ipynb_checkpoints/Coding%20ninjas/Milestone2%28Arrays%26Lists%29-checkpoint.ipynb#ch0000033?line=1'>2</a>\u001b[0m n\n",
      "\u001b[1;31mValueError\u001b[0m: invalid literal for int() with base 10: ''"
     ]
    }
   ],
   "source": [
    "n=int(input())\n",
    "n"
   ]
  },
  {
   "cell_type": "code",
   "execution_count": 8,
   "id": "007dd22e",
   "metadata": {},
   "outputs": [
    {
     "name": "stdout",
     "output_type": "stream",
     "text": [
      "[1, 2, 3, 4]\n"
     ]
    }
   ],
   "source": [
    "n=int(input())\n",
    "li=[]\n",
    "for i in range(n):\n",
    "    curr=int(input())\n",
    "    li.append(curr)\n",
    "print(li)"
   ]
  },
  {
   "cell_type": "code",
   "execution_count": null,
   "id": "bd5a60b4",
   "metadata": {},
   "outputs": [
    {
     "name": "stdout",
     "output_type": "stream",
     "text": [
      "1\n",
      "2\n",
      "3\n",
      "4\n",
      "5\n"
     ]
    }
   ],
   "source": [
    "for ele in li:\n",
    "    print(ele)"
   ]
  },
  {
   "cell_type": "code",
   "execution_count": null,
   "id": "0ab0e099",
   "metadata": {},
   "outputs": [
    {
     "name": "stdout",
     "output_type": "stream",
     "text": [
      "['4', '56', '7', '89', '879']\n"
     ]
    }
   ],
   "source": [
    "5\n",
    "1\n",
    "2 \n",
    "3 \n",
    "4 \n",
    "5\n",
    "n = int(input())\n",
    "li = []\n",
    "for i in range(n):\n",
    "    li.append(input())\n",
    "print(li)"
   ]
  },
  {
   "cell_type": "markdown",
   "id": "ea9e1713",
   "metadata": {},
   "source": [
    "Space seperated input"
   ]
  },
  {
   "cell_type": "code",
   "execution_count": 6,
   "id": "df31d766",
   "metadata": {},
   "outputs": [
    {
     "data": {
      "text/plain": [
       "5"
      ]
     },
     "execution_count": 6,
     "metadata": {},
     "output_type": "execute_result"
    }
   ],
   "source": [
    "n=int(input())\n",
    "n"
   ]
  },
  {
   "cell_type": "code",
   "execution_count": null,
   "id": "63ed71fe",
   "metadata": {},
   "outputs": [
    {
     "data": {
      "text/plain": [
       "'1 2 3 4 5'"
      ]
     },
     "execution_count": 9,
     "metadata": {},
     "output_type": "execute_result"
    }
   ],
   "source": [
    "str=input()\n",
    "str"
   ]
  },
  {
   "cell_type": "code",
   "execution_count": null,
   "id": "a48906c2",
   "metadata": {},
   "outputs": [],
   "source": [
    "li=[]"
   ]
  },
  {
   "cell_type": "code",
   "execution_count": 5,
   "id": "de35042c",
   "metadata": {},
   "outputs": [
    {
     "data": {
      "text/plain": [
       "['1', '2', '3', '4']"
      ]
     },
     "execution_count": 5,
     "metadata": {},
     "output_type": "execute_result"
    }
   ],
   "source": [
    "str_split=str.split(' ')\n",
    "str_split"
   ]
  },
  {
   "cell_type": "code",
   "execution_count": 4,
   "id": "477e8716",
   "metadata": {},
   "outputs": [
    {
     "data": {
      "text/plain": [
       "'1 2 3 4'"
      ]
     },
     "execution_count": 4,
     "metadata": {},
     "output_type": "execute_result"
    }
   ],
   "source": [
    "str=input()\n",
    "str"
   ]
  },
  {
   "cell_type": "code",
   "execution_count": null,
   "id": "2352f191",
   "metadata": {},
   "outputs": [
    {
     "data": {
      "text/plain": [
       "['1', '2', '3', '4', '5']"
      ]
     },
     "execution_count": 12,
     "metadata": {},
     "output_type": "execute_result"
    }
   ],
   "source": [
    "str_split=str.split(',')\n",
    "str_split"
   ]
  },
  {
   "cell_type": "code",
   "execution_count": null,
   "id": "422030d2",
   "metadata": {},
   "outputs": [
    {
     "data": {
      "text/plain": [
       "['1', '2', '3', '4', '5']"
      ]
     },
     "execution_count": 16,
     "metadata": {},
     "output_type": "execute_result"
    }
   ],
   "source": [
    "str_split=str.split()\n",
    "str_split"
   ]
  },
  {
   "cell_type": "code",
   "execution_count": 1,
   "id": "8ebe044e",
   "metadata": {},
   "outputs": [],
   "source": [
    "li=[]"
   ]
  },
  {
   "cell_type": "code",
   "execution_count": 2,
   "id": "a6654184",
   "metadata": {},
   "outputs": [
    {
     "ename": "NameError",
     "evalue": "name 'str_split' is not defined",
     "output_type": "error",
     "traceback": [
      "\u001b[1;31m---------------------------------------------------------------------------\u001b[0m",
      "\u001b[1;31mNameError\u001b[0m                                 Traceback (most recent call last)",
      "\u001b[1;32md:\\Python\\.ipynb_checkpoints\\Coding ninjas\\Milestone2(Arrays&Lists)-checkpoint.ipynb Cell 1'\u001b[0m in \u001b[0;36m<cell line: 1>\u001b[1;34m()\u001b[0m\n\u001b[1;32m----> <a href='vscode-notebook-cell:/d%3A/Python/.ipynb_checkpoints/Coding%20ninjas/Milestone2%28Arrays%26Lists%29-checkpoint.ipynb#ch0000000?line=0'>1</a>\u001b[0m \u001b[39mfor\u001b[39;00m ele \u001b[39min\u001b[39;00m str_split:\n\u001b[0;32m      <a href='vscode-notebook-cell:/d%3A/Python/.ipynb_checkpoints/Coding%20ninjas/Milestone2%28Arrays%26Lists%29-checkpoint.ipynb#ch0000000?line=1'>2</a>\u001b[0m     li\u001b[39m.\u001b[39mappend(\u001b[39mint\u001b[39m(ele))\n\u001b[0;32m      <a href='vscode-notebook-cell:/d%3A/Python/.ipynb_checkpoints/Coding%20ninjas/Milestone2%28Arrays%26Lists%29-checkpoint.ipynb#ch0000000?line=2'>3</a>\u001b[0m li\n",
      "\u001b[1;31mNameError\u001b[0m: name 'str_split' is not defined"
     ]
    }
   ],
   "source": [
    "for ele in str_split:\n",
    "    li.append(int(ele))\n",
    "li"
   ]
  },
  {
   "cell_type": "code",
   "execution_count": 3,
   "id": "ea5b651d",
   "metadata": {},
   "outputs": [
    {
     "data": {
      "text/plain": [
       "[1, 2, 3, 4, 5]"
      ]
     },
     "execution_count": 3,
     "metadata": {},
     "output_type": "execute_result"
    }
   ],
   "source": [
    "li=[int(x) for x in input().split()]\n",
    "li"
   ]
  },
  {
   "cell_type": "code",
   "execution_count": null,
   "id": "5b1e7845",
   "metadata": {},
   "outputs": [
    {
     "name": "stdout",
     "output_type": "stream",
     "text": [
      "7\n",
      "8\n",
      "9\n",
      "10\n",
      "11\n"
     ]
    }
   ],
   "source": [
    "for ele in li:\n",
    "    print(ele)"
   ]
  },
  {
   "cell_type": "code",
   "execution_count": null,
   "id": "38620b45",
   "metadata": {},
   "outputs": [
    {
     "name": "stdout",
     "output_type": "stream",
     "text": [
      "1\n",
      "2\n",
      "3\n",
      "4\n",
      "5\n"
     ]
    }
   ],
   "source": [
    "n=int(input())\n",
    "li=[int(x) for x in input().split()]\n",
    "for ele in li:\n",
    "    print(ele)"
   ]
  },
  {
   "cell_type": "code",
   "execution_count": 5,
   "id": "bb3d64b7",
   "metadata": {},
   "outputs": [
    {
     "name": "stdout",
     "output_type": "stream",
     "text": [
      "['1', '2', '3', '4']\n"
     ]
    }
   ],
   "source": [
    "\n",
    "li = [x for x in input().split()]\n",
    "print(li)"
   ]
  },
  {
   "cell_type": "code",
   "execution_count": 4,
   "id": "7738bf2c",
   "metadata": {},
   "outputs": [
    {
     "name": "stdout",
     "output_type": "stream",
     "text": [
      "['1', '2', '3', '4']\n"
     ]
    }
   ],
   "source": [
    "n = int(input())\n",
    "li = []\n",
    "for i in range(n):\n",
    "    li.append(input())\n",
    "print(li)"
   ]
  },
  {
   "cell_type": "code",
   "execution_count": null,
   "id": "7b93872a",
   "metadata": {},
   "outputs": [
    {
     "name": "stdout",
     "output_type": "stream",
     "text": [
      "155\n"
     ]
    }
   ],
   "source": [
    "n=int(input())\n",
    "a=input().split()\n",
    "li=[int(x) for x in a]\n",
    "print(sum(li))"
   ]
  },
  {
   "cell_type": "markdown",
   "id": "ea2aa39b",
   "metadata": {},
   "source": [
    "Linear Search"
   ]
  },
  {
   "cell_type": "code",
   "execution_count": 33,
   "id": "0e6a6dbe",
   "metadata": {},
   "outputs": [
    {
     "ename": "IndexError",
     "evalue": "list index out of range",
     "output_type": "error",
     "traceback": [
      "\u001b[1;31m---------------------------------------------------------------------------\u001b[0m",
      "\u001b[1;31mIndexError\u001b[0m                                Traceback (most recent call last)",
      "\u001b[1;32mc:\\Users\\sinha\\Python\\.ipynb_checkpoints\\Coding ninjas\\Milestone2(Arrays&Lists)-checkpoint.ipynb Cell 55'\u001b[0m in \u001b[0;36m<module>\u001b[1;34m\u001b[0m\n\u001b[0;32m      <a href='vscode-notebook-cell:/c%3A/Users/sinha/Python/.ipynb_checkpoints/Coding%20ninjas/Milestone2%28Arrays%26Lists%29-checkpoint.ipynb#ch0000054?line=3'>4</a>\u001b[0m     li\u001b[39m.\u001b[39mappend(\u001b[39mint\u001b[39m(\u001b[39minput\u001b[39m()))\n\u001b[0;32m      <a href='vscode-notebook-cell:/c%3A/Users/sinha/Python/.ipynb_checkpoints/Coding%20ninjas/Milestone2%28Arrays%26Lists%29-checkpoint.ipynb#ch0000054?line=4'>5</a>\u001b[0m s\u001b[39m=\u001b[39m\u001b[39mint\u001b[39m(\u001b[39minput\u001b[39m())\n\u001b[1;32m----> <a href='vscode-notebook-cell:/c%3A/Users/sinha/Python/.ipynb_checkpoints/Coding%20ninjas/Milestone2%28Arrays%26Lists%29-checkpoint.ipynb#ch0000054?line=5'>6</a>\u001b[0m \u001b[39mprint\u001b[39m(li[s])\n",
      "\u001b[1;31mIndexError\u001b[0m: list index out of range"
     ]
    }
   ],
   "source": [
    "n=int(input())\n",
    "li=[]\n",
    "for i in range(n):\n",
    "    li.append(int(input()))\n",
    "s=int(input())\n",
    "print(li[s])"
   ]
  },
  {
   "cell_type": "code",
   "execution_count": null,
   "id": "ef7c0b12",
   "metadata": {},
   "outputs": [
    {
     "name": "stdout",
     "output_type": "stream",
     "text": [
      "not found in list\n"
     ]
    }
   ],
   "source": [
    "isFound=False\n",
    "li=[int(x) for x in input().split()]\n",
    "n=int(input())\n",
    "for i in range(len(li)):\n",
    "    if li[i]==n:\n",
    "        print(i)\n",
    "        isFound=True\n",
    "        break\n",
    "if isFound is not True:\n",
    "    print(\"not found in list\")    "
   ]
  },
  {
   "cell_type": "code",
   "execution_count": 34,
   "id": "ba568416",
   "metadata": {},
   "outputs": [
    {
     "data": {
      "text/plain": [
       "[1, 2, 3, 4, 5]"
      ]
     },
     "execution_count": 34,
     "metadata": {},
     "output_type": "execute_result"
    }
   ],
   "source": [
    "li"
   ]
  },
  {
   "cell_type": "markdown",
   "id": "84019a3f",
   "metadata": {},
   "source": [
    "Linear Search through functions\n"
   ]
  },
  {
   "cell_type": "code",
   "execution_count": 1,
   "id": "92698121",
   "metadata": {},
   "outputs": [
    {
     "name": "stdout",
     "output_type": "stream",
     "text": [
      "[45, 78, 56, 12, 78]\n",
      "1\n"
     ]
    }
   ],
   "source": [
    "def linear_search(li,ele):\n",
    "    #li is the list and ele is the element\n",
    "    for i in range(len(li)):\n",
    "        if li[i]== ele:\n",
    "            return i\n",
    "    return -1\n",
    "\n",
    "n=int(input())\n",
    "li=[]\n",
    "for i in range(n):\n",
    "    li.append(int(input()))\n",
    "    \n",
    "ele=int(input())\n",
    "index = linear_search(li,ele)\n",
    "print(li)\n",
    "print(index)"
   ]
  },
  {
   "cell_type": "code",
   "execution_count": 2,
   "id": "23abf986",
   "metadata": {},
   "outputs": [
    {
     "name": "stdout",
     "output_type": "stream",
     "text": [
      "[1, 4, 3, 4, 5]\n"
     ]
    }
   ],
   "source": [
    "def change(li):\n",
    "    li[1] = li[1] + 2\n",
    "li = [1,2,3,4,5]\n",
    "change(li)\n",
    "print(li)"
   ]
  },
  {
   "cell_type": "code",
   "execution_count": 1,
   "id": "ee13f523",
   "metadata": {},
   "outputs": [
    {
     "name": "stdout",
     "output_type": "stream",
     "text": [
      "[1, 4, 3, 4, 5]\n"
     ]
    }
   ],
   "source": [
    "def change(li):\n",
    "    li[1] = li[1] + 2\n",
    "    li = [3,3,3,4,5]\n",
    "li = [1,2,3,4,5]\n",
    "change(li)\n",
    "print(li)"
   ]
  },
  {
   "cell_type": "markdown",
   "id": "6fa496ec",
   "metadata": {},
   "source": [
    "Mutable"
   ]
  },
  {
   "cell_type": "code",
   "execution_count": 4,
   "id": "22374fe9",
   "metadata": {},
   "outputs": [
    {
     "name": "stdout",
     "output_type": "stream",
     "text": [
      "3\n",
      "4\n"
     ]
    }
   ],
   "source": [
    "x=3\n",
    "a=4\n",
    "print(x)\n",
    "print(a)"
   ]
  },
  {
   "cell_type": "code",
   "execution_count": 6,
   "id": "254a29fb",
   "metadata": {},
   "outputs": [
    {
     "data": {
      "text/plain": [
       "2519328817456"
      ]
     },
     "execution_count": 6,
     "metadata": {},
     "output_type": "execute_result"
    }
   ],
   "source": [
    "id(x)"
   ]
  },
  {
   "cell_type": "code",
   "execution_count": 5,
   "id": "bd906134",
   "metadata": {},
   "outputs": [
    {
     "data": {
      "text/plain": [
       "2519328817488"
      ]
     },
     "execution_count": 5,
     "metadata": {},
     "output_type": "execute_result"
    }
   ],
   "source": [
    "id(a)"
   ]
  },
  {
   "cell_type": "code",
   "execution_count": 10,
   "id": "71561399",
   "metadata": {},
   "outputs": [
    {
     "name": "stdout",
     "output_type": "stream",
     "text": [
      "[1, 2, 3, 4]\n",
      "[3, 3, 4]\n"
     ]
    }
   ],
   "source": [
    "li=[1,2,3,4]\n",
    "li2=li\n",
    "li2=[3,3,4]\n",
    "print(li)\n",
    "print(li2)"
   ]
  },
  {
   "cell_type": "markdown",
   "id": "2e0be346",
   "metadata": {},
   "source": [
    "Passing variables through function\n"
   ]
  },
  {
   "cell_type": "code",
   "execution_count": 1,
   "id": "ab7f6573",
   "metadata": {},
   "outputs": [
    {
     "name": "stdout",
     "output_type": "stream",
     "text": [
      "4\n",
      "2\n"
     ]
    }
   ],
   "source": [
    "def increment(a):\n",
    "    a=a+2\n",
    "    return a\n",
    "\n",
    "a=2\n",
    "ans=increment(a)\n",
    "print(ans)\n",
    "print(a)"
   ]
  },
  {
   "cell_type": "markdown",
   "id": "613c5b19",
   "metadata": {},
   "source": [
    "Passing list through function"
   ]
  },
  {
   "cell_type": "code",
   "execution_count": 3,
   "id": "92d936ac",
   "metadata": {},
   "outputs": [
    {
     "name": "stdout",
     "output_type": "stream",
     "text": [
      "[3, 3, 4]\n"
     ]
    }
   ],
   "source": [
    "def increment(li):\n",
    "    #li[2]=li[2]+2\n",
    "    li=[3,3,4]\n",
    "    return li\n",
    "\n",
    "\n",
    "li=[1,2,3,4]\n",
    "li = increment(li)\n",
    "print(li)"
   ]
  },
  {
   "cell_type": "code",
   "execution_count": 12,
   "id": "c6d355d6",
   "metadata": {},
   "outputs": [
    {
     "name": "stdout",
     "output_type": "stream",
     "text": [
      "[5, 4, 3, 2, 1]\n"
     ]
    }
   ],
   "source": [
    "def reverse_l(li):\n",
    "    length= len(li)\n",
    "    for i in range(length//2):\n",
    "        li[i],li[length-i-1] = li[length-i-1],li[i]\n",
    "\n",
    "li=[1,2,3,4,5]\n",
    "reverse_l(li)\n",
    "print(li)"
   ]
  },
  {
   "cell_type": "code",
   "execution_count": 11,
   "id": "2e487314",
   "metadata": {},
   "outputs": [
    {
     "name": "stdout",
     "output_type": "stream",
     "text": [
      "[5, 4, 3, 2, 1]\n"
     ]
    }
   ],
   "source": [
    "def reverse_l(li):\n",
    "    length= len(li)\n",
    "    for i in range(length//2):\n",
    "        li[i],li[-i-1] = li[-i-1],li[i]\n",
    "\n",
    "a=[1,2,3,4,5]\n",
    "reverse_l(a)\n",
    "print(a)"
   ]
  },
  {
   "cell_type": "code",
   "execution_count": 9,
   "id": "967a5e75",
   "metadata": {},
   "outputs": [],
   "source": [
    "li=0\n",
    "a=0"
   ]
  },
  {
   "cell_type": "code",
   "execution_count": 14,
   "id": "f8752546",
   "metadata": {},
   "outputs": [
    {
     "data": {
      "text/plain": [
       "[5, 4, 3, 2, 1]"
      ]
     },
     "execution_count": 14,
     "metadata": {},
     "output_type": "execute_result"
    }
   ],
   "source": [
    "li"
   ]
  },
  {
   "cell_type": "code",
   "execution_count": 17,
   "id": "1b60f155",
   "metadata": {},
   "outputs": [
    {
     "data": {
      "text/plain": [
       "[1, 2, 3, 4, 5]"
      ]
     },
     "execution_count": 17,
     "metadata": {},
     "output_type": "execute_result"
    }
   ],
   "source": [
    "a=li[::-1]\n",
    "a"
   ]
  },
  {
   "cell_type": "markdown",
   "id": "883ef277",
   "metadata": {},
   "source": [
    "Swap Alternate"
   ]
  },
  {
   "cell_type": "code",
   "execution_count": 18,
   "id": "c9e1722c",
   "metadata": {},
   "outputs": [],
   "source": [
    "def swapAlternate(arr, n) :\n",
    "    n = len(arr)\n",
    "    if n%2 == 0:\n",
    "        for i in range(0,n,2):\n",
    "            arr[i],arr[i+1] = arr[i+1],arr[i]\n",
    "    else:\n",
    "        for i in range(0,n-1,2):\n",
    "            arr[i],arr[i+1] = arr[i+1],arr[i]\n",
    "    for i in arr:\n",
    "        print(i,end =' ')"
   ]
  },
  {
   "cell_type": "code",
   "execution_count": 1,
   "id": "81f2a05e",
   "metadata": {},
   "outputs": [],
   "source": [
    "from sys import stdin\n",
    "\n",
    "def swapAlternate(arr, n) :\n",
    "    n = len(arr)\n",
    "    if n%2 == 0:\n",
    "        for i in range(0,n,2):\n",
    "            arr[i],arr[i+1] = arr[i+1],arr[i]\n",
    "    else:\n",
    "        for i in range(0,n-1,2):\n",
    "            arr[i],arr[i+1] = arr[i+1],arr[i]\n",
    "    for i in arr:\n",
    "        print(i,end =' ')\n",
    "\n",
    "#Taking Input Using Fast I/O\n",
    "def takeInput() :\n",
    "    n = int(stdin.readline().rstrip())\n",
    "\n",
    "    if n == 0 :\n",
    "        return list(), 0\n",
    "\n",
    "    arr = list(map(int, stdin.readline().rstrip().split(\" \")))\n",
    "    return arr, n\n",
    "\n",
    "\n",
    "#Printing the array/list\n",
    "def printList(arr, n) :\n",
    "    for i in range(n) :\n",
    "        print(arr[i], end = \" \")\n",
    "    print()\n",
    "\n",
    "\n",
    "#main\n",
    "t = int(stdin.readline().rstrip())\n",
    "\n",
    "while t > 0 :\n",
    "    arr, n = takeInput()\n",
    "    if n != 0 :\n",
    "        swapAlternate(arr, n)\n",
    "        printList(arr, n)\n",
    "    t -= 1"
   ]
  },
  {
   "cell_type": "code",
   "execution_count": 2,
   "id": "df0571b0",
   "metadata": {},
   "outputs": [
    {
     "name": "stdout",
     "output_type": "stream",
     "text": [
      "2 1 4 3 "
     ]
    }
   ],
   "source": [
    "def swapAlternate(li):\n",
    "    l = len(li)\n",
    "    if l%2 == 0:\n",
    "        for i in range(0,l,2):\n",
    "            li[i],li[i+1] = li[i+1],li[i]\n",
    "    else:\n",
    "        for i in range(0,l-1,2):\n",
    "            li[i],li[i+1] = li[i+1],li[i]\n",
    "    for i in li:\n",
    "        print(i,end =' ')\n",
    "n = int(input())\n",
    "li = [int(x) for x in input().split()[:n]]\n",
    "swapAlternate(li)"
   ]
  },
  {
   "cell_type": "code",
   "execution_count": 9,
   "id": "6d43e5b2",
   "metadata": {},
   "outputs": [
    {
     "name": "stdout",
     "output_type": "stream",
     "text": [
      "2 1 4 3 "
     ]
    }
   ],
   "source": [
    "def swapAlternate(arr):\n",
    "    l = len(arr)\n",
    "    if l%2 == 0:\n",
    "        for i in range(0,l,2):\n",
    "            arr[i],arr[i+1] = arr[i+1],arr[i]\n",
    "    else:\n",
    "        for i in range(0,l-1,2):\n",
    "            arr[i],arr[i+1] = arr[i+1],arr[i]\n",
    "    for i in arr:\n",
    "        print(i,end =' ')\n",
    "n = int(input())\n",
    "arr = [int(x) for x in input().split()[:n]]\n",
    "swapAlternate(arr)"
   ]
  },
  {
   "cell_type": "markdown",
   "id": "00a1da78",
   "metadata": {},
   "source": [
    "Find Unique"
   ]
  },
  {
   "cell_type": "code",
   "execution_count": 1,
   "metadata": {},
   "outputs": [],
   "source": [
    "import sys\n",
    "\n",
    "def findUnique(arr, n) :\n",
    "    for i in range(n) :\n",
    "        j = 0\n",
    "        while j < n :\n",
    "            if i != j :\n",
    "                if arr[i] == arr[j] :\n",
    "                    break\n",
    "            j += 1\n",
    "            \n",
    "        if j == n :\n",
    "            return arr[i]\n",
    "    return sys.maxsize \n",
    "\n",
    "\n",
    "def takeInput() :\n",
    "    n = int(sys.stdin.readline().rstrip())\n",
    "\n",
    "    if n == 0 :\n",
    "        return list(), 0\n",
    "\n",
    "    arr = list(map(int, sys.stdin.readline().rstrip().split(\" \")))\n",
    "    return arr, n\n",
    "\n",
    "#main\n",
    "t = int(sys.stdin.readline().rstrip())\n",
    "\n",
    "while t > 0 :\n",
    "\n",
    "    arr, n = takeInput()\n",
    "    print(findUnique(arr, n))\n",
    "\n",
    "    t -= 1"
   ]
  },
  {
   "cell_type": "markdown",
   "id": "281801e1",
   "metadata": {},
   "source": [
    "Pair Sum"
   ]
  },
  {
   "cell_type": "code",
   "execution_count": null,
   "id": "edb3a211",
   "metadata": {},
   "outputs": [],
   "source": [
    "\n",
    "from sys import stdin\n",
    "\n",
    "\n",
    "def pairSum(arr, n, x) :\n",
    "    count = 0\n",
    "    for i in range(0, n):\n",
    "        for j in range(i + 1, n):\n",
    "            if arr[i] + arr[j] == x:\n",
    "                count += 1\n",
    "    return count\n",
    "\n",
    "\n",
    "def takeInput() :\n",
    "    n = int(stdin.readline().strip())\n",
    "    if n == 0 :\n",
    "        return list(), 0\n",
    "\n",
    "    arr = list(map(int, stdin.readline().strip().split(\" \")))\n",
    "    return arr, n\n",
    "\n",
    "\n",
    "#main\n",
    "t = int(stdin.readline().strip())\n",
    "\n",
    "while t > 0 :\n",
    "    \n",
    "    arr, n = takeInput()\n",
    "    x = int(stdin.readline().strip())\n",
    "    print(pairSum(arr, n, x))\n",
    "\n",
    "    t -= 1"
   ]
  },
  {
   "cell_type": "markdown",
   "id": "91d1be89",
   "metadata": {},
   "source": [
    "Triplet SUm"
   ]
  },
  {
   "cell_type": "code",
   "execution_count": null,
   "id": "cce6b2d5",
   "metadata": {},
   "outputs": [],
   "source": [
    "def tripletSum(arr, n, x) :\n",
    "    count = 0\n",
    "    for i in range(0, n):\n",
    "        for j in range(i + 1, n):\n",
    "            for k in range(j+1,n):\n",
    "            if arr[i] + arr[j] + arr[k]== x:\n",
    "                count += 1\n",
    "    return count"
   ]
  },
  {
   "cell_type": "markdown",
   "id": "0b748108",
   "metadata": {},
   "source": [
    "Sort 0 1"
   ]
  },
  {
   "cell_type": "code",
   "execution_count": null,
   "id": "cd031e56",
   "metadata": {},
   "outputs": [],
   "source": [
    "def b (arr, n) :\n",
    "    count = 0\n",
    "    for i in range(0, n):\n",
    "        if arr[i]==0:\n",
    "            arr[i]=arr[i-1]\n",
    "        elif arr[i]==1:\n",
    "            arr[i]=arr[i+1]\n",
    "    return count"
   ]
  }
 ],
 "metadata": {
  "interpreter": {
   "hash": "05b2657630491085f8afbfdf2bfd0491452bae39dfa118b08ac6e00cdce9e088"
  },
  "kernelspec": {
   "display_name": "Python 3.10.4 64-bit",
   "language": "python",
   "name": "python3"
  },
  "language_info": {
   "codemirror_mode": {
    "name": "ipython",
    "version": 3
   },
   "file_extension": ".py",
   "mimetype": "text/x-python",
   "name": "python",
   "nbconvert_exporter": "python",
   "pygments_lexer": "ipython3",
   "version": "3.10.5"
  }
 },
 "nbformat": 4,
 "nbformat_minor": 5
}
