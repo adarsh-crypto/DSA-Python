{
 "cells": [
  {
   "cell_type": "code",
   "execution_count": null,
   "metadata": {},
   "outputs": [],
   "source": [
    "for i in range(0,len(arr)):\n",
    "    if arr[i]==x:\n",
    "        print (i)\n"
   ]
  },
  {
   "cell_type": "code",
   "execution_count": null,
   "metadata": {},
   "outputs": [],
   "source": [
    "n=int(input())\n",
    "arr = [int(x) for x in input().split()[:n]]\n",
    "\n"
   ]
  },
  {
   "cell_type": "code",
   "execution_count": null,
   "metadata": {},
   "outputs": [],
   "source": [
    "\n",
    "def binarySearch(arr, low, high, x):\n",
    "  \n",
    "    while low <= high:\n",
    "  \n",
    "        mid = low + (high - 1) // 2;\n",
    "          \n",
    "        # Check if num is present at mid\n",
    "        if arr[mid] == x:\n",
    "            return mid\n",
    "  \n",
    "        # If num is greater than arr[mid], ignore left half\n",
    "        elif arr[mid] < x:\n",
    "            low = mid + 1\n",
    "  \n",
    "        # If num is smaller than arr[mid], ignore right half\n",
    "        else:\n",
    "            high = mid - 1\n",
    "      \n",
    "    # element not present\n",
    "    return -1"
   ]
  },
  {
   "cell_type": "code",
   "execution_count": null,
   "metadata": {},
   "outputs": [],
   "source": [
    "from sys import stdin\n",
    "def binarySearch(arr, n, x) : \n",
    "    start = 0;\n",
    "    end = n - 1 \n",
    "    mid = start\n",
    "    while start <= end :\n",
    "        mid = start + (end - start) // 2\n",
    "        if arr[mid] > x :\n",
    "            end = mid - 1\n",
    "        elif arr[mid] < x :\n",
    "            start = mid + 1 \n",
    "        else : \n",
    "            return mid \n",
    "    return -1\n",
    "def takeInput() :\n",
    "    n = int(input())\n",
    "    if n == 0 :\n",
    "        return list(), 0\n",
    "    arr = list(map(int, input().strip().split(\" \"))) \n",
    "    return arr, n\n",
    "arr, n = takeInput()\n",
    "t = int(input()) \n",
    "while t > 0 : \n",
    "    x = int(input().strip()) \n",
    "    print(binarySearch(arr, n, x)) \n",
    "    t -= 1"
   ]
  },
  {
   "cell_type": "code",
   "execution_count": null,
   "metadata": {},
   "outputs": [],
   "source": [
    "def binary_Search(array, element, debug=False):\n",
    "    lower_bound=0\n",
    "    upper_bound=len(array)-1\n",
    "    \n",
    "    while lower_bound<=upper_bound:\n",
    "        middle=(lower_bound+upper_bound)//2\n",
    "        if debug:\n",
    "            print(\"Lower Bound\",lower_bound)\n",
    "            print(\"Upper Bound\",upper_bound)\n",
    "            print(\"Middle\",middle)\n",
    "        \n",
    "        if element==array[middle]:\n",
    "            return \"Your Value Is at middle\",middle\n",
    "        elif element<array[middle]:\n",
    "            upper_bound=middle-1\n",
    "        elif element>array[middle]:\n",
    "            upper_bound=middle\n",
    "    return -1    "
   ]
  },
  {
   "cell_type": "markdown",
   "metadata": {},
   "source": [
    "Push Zeros to end"
   ]
  },
  {
   "cell_type": "code",
   "execution_count": null,
   "metadata": {},
   "outputs": [],
   "source": [
    "def pushZerosAtEnd(arr, n) :\n",
    "    nonZero = 0 \n",
    "    for i in range(n):\n",
    "        if arr[i] != 0 :\n",
    "            temp = arr[i] \n",
    "            arr[i] = arr[nonZero] \n",
    "            arr[nonZero] = temp \n",
    "            nonZero += 1 \n",
    "    "
   ]
  },
  {
   "cell_type": "markdown",
   "metadata": {},
   "source": [
    "Selection Sort\n"
   ]
  },
  {
   "cell_type": "code",
   "execution_count": null,
   "metadata": {},
   "outputs": [],
   "source": [
    "def selectionsort(A):\n",
    "    for i in range(len(A)):\n",
    "        min_index=i\n",
    "        for j in range(i+1,len(A)):\n",
    "            if A[j]<A[min_index]:\n",
    "                min_index=j\n",
    "        A[i],A[min_index]=A[min_index],A[i]\n",
    "    return A"
   ]
  },
  {
   "cell_type": "code",
   "execution_count": null,
   "metadata": {},
   "outputs": [],
   "source": [
    "selectionsort([13,4,9,5,3])"
   ]
  },
  {
   "cell_type": "markdown",
   "metadata": {},
   "source": [
    "Bubble Sort"
   ]
  },
  {
   "cell_type": "code",
   "execution_count": null,
   "metadata": {},
   "outputs": [],
   "source": [
    "def bubblesort(a):\n",
    "    for i in range(len(a)):\n",
    "        print(\"this is pass:\",i)\n",
    "        for j in range(len(a)-1):\n",
    "            if a[j]>a[j+1]:\n",
    "                print(\"the pair is:\",a[j],\"and\",a[j+1])\n",
    "                a[j],a[j+1]=a[j+1],a[j]\n",
    "    return a"
   ]
  },
  {
   "cell_type": "code",
   "execution_count": null,
   "metadata": {},
   "outputs": [],
   "source": [
    "bubblesort([8,5,3,1])"
   ]
  },
  {
   "cell_type": "code",
   "execution_count": null,
   "metadata": {},
   "outputs": [],
   "source": [
    "def bubbleSort(arr,n):\n",
    "    for i in range(n):\n",
    "        for j in range(n-1):\n",
    "            if arr[j]>arr[j+1]:\n",
    "                arr[j],arr[j+1]=arr[j+1],arr[j]"
   ]
  },
  {
   "cell_type": "markdown",
   "metadata": {},
   "source": [
    "Optimized Bubble sort\n"
   ]
  },
  {
   "cell_type": "code",
   "execution_count": null,
   "metadata": {},
   "outputs": [],
   "source": [
    "def bubble_sort(arr):\n",
    "    for i in range(len(arr)-1):\n",
    "        for j in range(len(arr)-1-i):\n",
    "            if arr[j]>arr[j+1]:\n",
    "                arr[j],arr[j+1]=arr[j+1],arr[j]\n",
    "    return arr"
   ]
  },
  {
   "cell_type": "code",
   "execution_count": null,
   "metadata": {},
   "outputs": [],
   "source": [
    "bubble_sort([8,5,3,1])"
   ]
  },
  {
   "cell_type": "markdown",
   "metadata": {},
   "source": [
    "Insertion Sort"
   ]
  },
  {
   "cell_type": "code",
   "execution_count": null,
   "metadata": {},
   "outputs": [],
   "source": [
    "def insertionsort(arr):\n",
    "    length=len(arr)\n",
    "    for i in range(1,length):\n",
    "        j=i-1\n",
    "        temp=arr[i]\n",
    "        while(j>=0 and arr[j]>temp):\n",
    "            arr[j+1]=arr[j]\n",
    "            j=j-1\n",
    "        arr[j+1]==temp\n",
    "    return arr\n",
    "\n",
    "insertionsort([8,5,3,1])\n"
   ]
  },
  {
   "cell_type": "code",
   "execution_count": null,
   "metadata": {},
   "outputs": [],
   "source": [
    "from sys import stdin \n",
    "def insertionSort(arr, n) :\n",
    "    i = 1 \n",
    "    while i < n :\n",
    "        temp = arr[i]\n",
    "        j = i - 1\n",
    "        while j >= 0 :\n",
    "            if arr[j] > temp :\n",
    "                arr[j + 1] = arr[j] \n",
    "            else :\n",
    "                break \n",
    "                \n",
    "            j -= 1 \n",
    "            \n",
    "        arr[j + 1] = temp\n",
    "        i += 1\n",
    "\n",
    "def takeInput() : \n",
    "    n = int(input())\n",
    "    if n == 0 : \n",
    "        return list(), 0 \n",
    "    arr = list(map(int, input().strip().split(\" \"))) \n",
    "    return arr, n \n",
    "def printList(arr, n) : \n",
    "    for i in range(n) :\n",
    "        print(arr[i], end = \" \") \n",
    "    print() \n",
    "\n",
    "t = int(input())\n",
    "while t > 0 :\n",
    "    arr, n = takeInput()\n",
    "    insertionSort(arr, n)\n",
    "    printList(arr, n) \n",
    "    t-= 1"
   ]
  },
  {
   "cell_type": "markdown",
   "metadata": {},
   "source": [
    "Merge Sort"
   ]
  },
  {
   "cell_type": "code",
   "execution_count": null,
   "metadata": {},
   "outputs": [],
   "source": [
    "def mergesort(a1,a2, debug=False):\n",
    "    i,j=0,0\n",
    "    len1,len2=len(a1),len(a2)\n",
    "    new_arr=[]\n",
    "\n",
    "    while (i<len1 and j<len2):\n",
    "        if a1[i]<a2[j]:\n",
    "            new_arr.append(a1[i])\n",
    "            i=i+1\n",
    "        else:\n",
    "            new_arr.append(a2[j])\n",
    "            j=j+1\n",
    "    while (i<len1):\n",
    "        new_arr.append(a1[i])\n",
    "        i=i+1\n",
    "    while (j<len2):\n",
    "        new_arr.append(a2[j])\n",
    "        j=j+1\n",
    "    return new_arr"
   ]
  },
  {
   "cell_type": "code",
   "execution_count": null,
   "metadata": {},
   "outputs": [],
   "source": [
    "a1=[1,3,4,7,11]\n",
    "a2=[4,9,12,13]\n",
    "mergesort(a1,a2)"
   ]
  },
  {
   "cell_type": "code",
   "execution_count": null,
   "metadata": {},
   "outputs": [],
   "source": [
    "def mergesort(arr1,n,arr2,m):\n",
    "    i,j=0,0\n",
    "    len1,len2=n,m\n",
    "    new_arr=[]\n",
    "\n",
    "    while (i<len1 and j<len2):\n",
    "        if arr1[i]<arr2[j]:\n",
    "            new_arr.append(arr1[i])\n",
    "            i=i+1\n",
    "        else:\n",
    "            new_arr.append(arr2[j])\n",
    "            j=j+1\n",
    "    while (i<len1):\n",
    "        new_arr.append(arr1[i])\n",
    "        i=i+1\n",
    "    while (j<len2):\n",
    "        new_arr.append(arr2[j])\n",
    "        j=j+1"
   ]
  },
  {
   "cell_type": "code",
   "execution_count": null,
   "metadata": {},
   "outputs": [],
   "source": [
    "from sys import stdin\n",
    "def merge(arr1, n, arr2, m) : \n",
    "    ans = (n + m) * [0]\n",
    "    i = 0 \n",
    "    j = 0 \n",
    "    k = 0\n",
    "    while i < n and j < m :\n",
    "        if arr1[i] < arr2[j] :\n",
    "            ans[k] = arr1[i]\n",
    "            k += 1 \n",
    "            i += 1 \n",
    "        else : \n",
    "            ans[k] = arr2[j] \n",
    "            k += 1 \n",
    "            j += 1 \n",
    "    while i < n :\n",
    "        ans[k] = arr1[i]\n",
    "        k += 1\n",
    "        i += 1\n",
    "    while j < m :\n",
    "        ans[k] = arr2[j]\n",
    "        k += 1\n",
    "        j += 1\n",
    "    return ans \n",
    "def takeInput() :\n",
    "    n = int(input()) \n",
    "    if n != 0: \n",
    "        arr = list(map(int, input().strip().split(\" \"))) \n",
    "        return arr, n\n",
    "    return list(), 0\n",
    "def printList(arr, n) : \n",
    "    for i in range(n) :\n",
    "        print(arr[i], end = \" \") \n",
    "    print()\n",
    "    \n",
    "t = int(input()) \n",
    "while t > 0 :\n",
    "    arr1, n = takeInput()\n",
    "    arr2, m = takeInput()\n",
    "    ans = merge(arr1, n, arr2, m) \n",
    "    printList(ans, (n + m)) \n",
    "    \n",
    "    t -= 1"
   ]
  },
  {
   "cell_type": "markdown",
   "metadata": {},
   "source": [
    "Rotate array"
   ]
  },
  {
   "cell_type": "code",
   "execution_count": null,
   "metadata": {},
   "outputs": [],
   "source": [
    "def rotate(arr, n, d):\n",
    "    for i in range(n):\n",
    "        arr[i]=arr[i-d]"
   ]
  },
  {
   "cell_type": "code",
   "execution_count": null,
   "metadata": {},
   "outputs": [],
   "source": [
    "from sys import stdin \n",
    "def swapElements(arr, start, end) :\n",
    "    arr[start], arr[end] = arr[end], arr[start] \n",
    "    \n",
    "def reverse(arr, start, end): \n",
    "    while(start < end):\n",
    "        swapElements(arr, start, end)\n",
    "        start += 1\n",
    "        end -= 1 \n",
    "def rotate(arr, n, d): \n",
    "    if n == 0 :\n",
    "        return\n",
    "    if d >= n and n != 0 :\n",
    "        d = d % n\n",
    "    reverse(arr, 0, n - 1) \n",
    "    reverse(arr, 0, n - d - 1) \n",
    "    reverse(arr, n - d, n - 1) \n",
    "def takeInput() :\n",
    "    n = int(input())\n",
    "    if n == 0:\n",
    "        return list(), 0 \n",
    "    arr = list(map(int, input().rstrip().split(\" \")))\n",
    "    return arr, n \n",
    "def printList(arr, n) :\n",
    "    for i in range(n) : \n",
    "        print(arr[i], end = \" \")\n",
    "    print()\n",
    "\n",
    "t = int(input())\n",
    "while t > 0 :\n",
    "    arr, n = takeInput()\n",
    "    d = int(input()) \n",
    "    rotate(arr, n, d)\n",
    "    printList(arr, n)\n",
    "    \n",
    "    t -= 1"
   ]
  },
  {
   "cell_type": "markdown",
   "metadata": {},
   "source": [
    "Second Largest in array"
   ]
  },
  {
   "cell_type": "code",
   "execution_count": null,
   "metadata": {},
   "outputs": [],
   "source": [
    "from sys import stdin \n",
    "MIN_VALUE = -2147483648 \n",
    "def secondLargestElement(arr, n):\n",
    "    if n == 0 : \n",
    "        return MIN_VALUE\n",
    "    largest = arr[0] \n",
    "    secondLargest = MIN_VALUE \n",
    "    for i in range(n) : \n",
    "        if largest < arr[i] : \n",
    "            secondLargest = largest \n",
    "            largest = arr[i]\n",
    "        elif secondLargest < arr[i] and arr[i] != largest :\n",
    "            secondLargest = arr[i] \n",
    "    return secondLargest \n",
    "def takeInput() :\n",
    "    n = int(input()) \n",
    "    if n != 0: \n",
    "        arr = list(map(int, input().rstrip().split(\" \"))) \n",
    "        return arr, n\n",
    "    return list(), 0\n",
    "t = int(input().rstrip()) \n",
    "while t > 0 :\n",
    "    arr, n = takeInput()\n",
    "    print(secondLargestElement(arr, n)) \n",
    "    \n",
    "    t -= 1"
   ]
  },
  {
   "cell_type": "markdown",
   "metadata": {},
   "source": [
    "Check Array Rotation"
   ]
  },
  {
   "cell_type": "code",
   "execution_count": null,
   "metadata": {},
   "outputs": [],
   "source": [
    "from sys import stdin \n",
    "def arrayRotateCheck(arr, n):\n",
    "    for i in range(n - 1):\n",
    "        if(arr[i] > arr[i + 1]):\n",
    "            return (i + 1) \n",
    "    return 0 \n",
    "def takeInput() : \n",
    "    n = int(input().rstrip()) \n",
    "    if n == 0:\n",
    "        return list(), 0 \n",
    "    arr = list(map(int, input().rstrip().split(\" \"))) \n",
    "    return arr, n\n",
    "t = int(input().rstrip())\n",
    "while t > 0 :\n",
    "    arr, n = takeInput() \n",
    "    print(arrayRotateCheck(arr, n))\n",
    "    \n",
    "    t -= 1"
   ]
  },
  {
   "cell_type": "markdown",
   "metadata": {},
   "source": [
    "Sort 0 1 2"
   ]
  },
  {
   "cell_type": "code",
   "execution_count": null,
   "metadata": {},
   "outputs": [],
   "source": [
    "def sort012(arr, n) :\n",
    "    new_arr=[]\n",
    "    for i in range(n):\n",
    "        if arr[i]==0:\n",
    "            new_arr.append(arr[i])\n",
    "        elif arr[i]==1:\n",
    "            new_arr.append(arr[i])\n",
    "        elif arr[i]==2:\n",
    "            new_arr.append(arr[i])\n",
    "        else:\n",
    "            return 0\n",
    "    return new_arr"
   ]
  },
  {
   "cell_type": "code",
   "execution_count": null,
   "metadata": {},
   "outputs": [],
   "source": [
    "arr=[0,1,2,0,2,0,1]\n",
    "n=7\n",
    "sort012(arr,n)"
   ]
  },
  {
   "cell_type": "code",
   "execution_count": null,
   "metadata": {},
   "outputs": [],
   "source": [
    "from sys import stdin\n",
    "def sort012(arr, n) :\n",
    "    nextZero = 0\n",
    "    nextTwo = (n - 1) \n",
    "    i = 0 \n",
    "    while i <= nextTwo :\n",
    "        if arr[i] == 0 :\n",
    "            temp = arr[nextZero]\n",
    "            arr[nextZero] = arr[i] \n",
    "            arr[i] = temp\n",
    "            i += 1\n",
    "            nextZero += 1\n",
    "        elif arr[i] == 2 :\n",
    "            temp = arr[nextTwo] \n",
    "            arr[nextTwo] = arr[i] \n",
    "            arr[i] = temp\n",
    "            nextTwo -= 1\n",
    "        else : \n",
    "            i += 1 \n",
    "def takeInput() : \n",
    "    n = int(input().rstrip())\n",
    "    if n == 0 :\n",
    "        return list(), 0 \n",
    "    arr = list(map(int, input().rstrip().split(\" \")))\n",
    "    return arr, n\n",
    "def printList(arr, n) : \n",
    "    for i in range(n) :\n",
    "        print(arr[i], end = \" \")\n",
    "    print() \n",
    "t = int(input())\n",
    "while t > 0 :\n",
    "    arr, n = takeInput() \n",
    "    sort012(arr, n)\n",
    "    printList(arr, n) \n",
    "    t -= 1"
   ]
  },
  {
   "cell_type": "markdown",
   "metadata": {},
   "source": [
    "Sum of two arrays"
   ]
  },
  {
   "cell_type": "code",
   "execution_count": null,
   "metadata": {},
   "outputs": [],
   "source": [
    "from sys import stdin\n",
    "def sumOfTwoArrays(arr1, n, arr2, m, output) :\n",
    "    i = n - 1\n",
    "    j = m - 1\n",
    "    carry = 0   \n",
    "    k = max(n, m)\n",
    "    #k is the current index output array \n",
    "    while i >= 0 and j >= 0 :\n",
    "        SUM = arr1[i] + arr2[j] + carry \n",
    "        output[k] = SUM % 10\n",
    "        carry = SUM // 10 \n",
    "        i -= 1 \n",
    "        j -= 1\n",
    "        k -= 1 \n",
    "    while i >= 0 :\n",
    "        SUM = arr1[i] + carry \n",
    "        output[k] = SUM % 10 \n",
    "        carry = SUM // 10 \n",
    "        i -= 1 \n",
    "        k -= 1 \n",
    "    while j >= 0 : \n",
    "        SUM = arr2[j] + carry \n",
    "        output[k] = SUM % 10 \n",
    "        carry = SUM // 10 \n",
    "        j -= 1\n",
    "        k -= 1 \n",
    "        output[0] = carry \n",
    "\n",
    "def takeInput() :\n",
    "    n = int(input()) \n",
    "    if n == 0 : \n",
    "        return list(), 0 \n",
    "    arr = list(map(int, input().rstrip().split(\" \"))) \n",
    "    return arr, n \n",
    "def printList(arr, n) : \n",
    "    for i in range(n) : \n",
    "        print(arr[i], end = \" \") \n",
    "    print() \n",
    "    \n",
    "t = int(input().rstrip()) \n",
    "while t > 0 :\n",
    "    arr1, n = takeInput()\n",
    "    arr2, m = takeInput() \n",
    "    outputSize = (1 + max(n, m)) \n",
    "    output = outputSize * [0] \n",
    "    sumOfTwoArrays(arr1, n, arr2, m, output) \n",
    "    printList(output, outputSize) \n",
    "    \n",
    "    t -= 1"
   ]
  },
  {
   "cell_type": "code",
   "execution_count": null,
   "metadata": {},
   "outputs": [],
   "source": [
    "def sumOfTwoArrays(lst1, n, lst2, m,output) :\n",
    "    i, j, sum, carry = 0, 0, 0, 0\n",
    "    new_lst = []\n",
    "    if n == 0 and m == 0:\n",
    "        new_lst.append(0)\n",
    "    elif n > 0 and m>0:\n",
    "        while n > 0 and m > 0:\n",
    "            sum = lst1[n - 1] + lst2[m - 1] + carry\n",
    "            if sum >= 10:\n",
    "                carry = 1\n",
    "            else:\n",
    "                carry = 0\n",
    "            new_lst.append(sum % 10)\n",
    "            n -= 1\n",
    "            m -= 1\n",
    "        while n > 0:\n",
    "            if (lst1[n-1] + carry) >= 10:\n",
    "                new_lst.append((lst1[n-1] + carry) % 10)\n",
    "                carry = 1\n",
    "            else:\n",
    "                new_lst.append(lst1[n-1])\n",
    "                carry = 0\n",
    "            n -= 1\n",
    "        while m > 0:\n",
    "            if (lst2[m-1] + carry) >= 10:\n",
    "                new_lst.append((lst2[m-1] + carry) % 10)\n",
    "                carry = 1\n",
    "            else:\n",
    "                new_lst.append(lst1[m-1])\n",
    "                carry = 0\n",
    "            m -= 1\n",
    "        if carry == 1:\n",
    "            new_lst.append(1)\n",
    "        new_lst.reverse()\n",
    "    elif n == 0 and m > 0:\n",
    "        new_lst.append(0)\n",
    "        new_lst = new_lst + lst2\n",
    "    elif n > 0 and m == 0:\n",
    "        new_lst.append(0)\n",
    "        new_lst = new_lst + lst1\n",
    "    output=new_lst\n",
    "    return output"
   ]
  },
  {
   "cell_type": "code",
   "execution_count": null,
   "metadata": {},
   "outputs": [],
   "source": [
    "def sumOfTwoArrays(arr1, n, arr2, m, output):\n",
    "    i = n - 1\n",
    "    j = m - 1\n",
    "    carry = 0\n",
    "    k = max(n, m)\n",
    "    while i >= 0 and j >= 0:\n",
    "        SUM = arr1[i] + arr2[j] + carry\n",
    "        output[k] = SUM % 10\n",
    "        carry = SUM // 10\n",
    "        i -= 1\n",
    "        j -= 1\n",
    "        k -= 1\n",
    "    while i >= 0:\n",
    "        SUM = arr1[i] + carry\n",
    "        output[k] = SUM % 10\n",
    "        carry = SUM // 10\n",
    "        i -= 1\n",
    "        k -= 1\n",
    "    while j >= 0:\n",
    "        SUM = arr2[j] + carry\n",
    "        output[k] = SUM % 10\n",
    "        carry = SUM // 10\n",
    "        j -= 1\n",
    "        k -= 1\n",
    "    output[0] = carry\n",
    "    return output"
   ]
  }
 ],
 "metadata": {
  "kernelspec": {
   "display_name": "Python 3.10.5 64-bit",
   "language": "python",
   "name": "python3"
  },
  "language_info": {
   "codemirror_mode": {
    "name": "ipython",
    "version": 3
   },
   "file_extension": ".py",
   "mimetype": "text/x-python",
   "name": "python",
   "nbconvert_exporter": "python",
   "pygments_lexer": "ipython3",
   "version": "3.10.5"
  },
  "orig_nbformat": 4,
  "vscode": {
   "interpreter": {
    "hash": "05b2657630491085f8afbfdf2bfd0491452bae39dfa118b08ac6e00cdce9e088"
   }
  }
 },
 "nbformat": 4,
 "nbformat_minor": 2
}
